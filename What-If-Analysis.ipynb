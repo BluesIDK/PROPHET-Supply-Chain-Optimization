{
 "cells": [
  {
   "cell_type": "code",
   "execution_count": 2,
   "id": "1c37e3d8",
   "metadata": {},
   "outputs": [],
   "source": [
    "import pandas as pd\n",
    "import matplotlib.pyplot as plt\n",
    "\n",
    "# Load the dataset\n",
    "df = pd.read_csv(\"latinelle_yogurt_data.csv\")"
   ]
  },
  {
   "cell_type": "markdown",
   "id": "8edbe203",
   "metadata": {},
   "source": [
    "## Price Drop Impact Analysis\n",
    "This chart simulates a 10% price drop (90 DZD/unit), reducing total sales (e.g., 300 units × 90 = 27,000 DZD vs. 30,000 DZD). The drop is consistent, suggesting elasticity is low. This shows Laitinelle can test pricing strategies without risking much volume loss.\n",
    "I explored a price drop as a what-if, keeping my core model intact. \n",
    "The plot compares original revenue (sales_dzd) with the new revenue (sales_dzd_new), showing the direct impact of the price drop."
   ]
  },
  {
   "cell_type": "code",
   "execution_count": 3,
   "id": "05dbe9b3",
   "metadata": {},
   "outputs": [],
   "source": [
    "df_new = df.copy()\n",
    "df_new[\"price_per_unit_dzd\"] = 90\n",
    "df_new[\"sales_dzd_new\"] = df_new[\"units_sold\"] * 90\n",
    "plt.figure(figsize=(10, 6))\n",
    "plt.plot(df[\"ds\"], df[\"sales_dzd\"], label=\"Original Sales (100 DZD)\")\n",
    "plt.plot(df[\"ds\"], df_new[\"sales_dzd_new\"], label=\"New Sales (90 DZD)\")\n",
    "plt.title(\"Sales Impact of 10% Price Drop\")\n",
    "plt.xlabel(\"Date\")\n",
    "plt.ylabel(\"Sales (DZD)\")\n",
    "plt.legend()\n",
    "plt.grid(True)\n",
    "plt.savefig(\"price_drop_impact.png\")\n",
    "plt.close()"
   ]
  },
  {
   "cell_type": "markdown",
   "id": "b12648f2",
   "metadata": {},
   "source": [
    "## Marketing Campaign Boost - Impact Analysis\n",
    "Let’s explore what happens if Laitinelle ramps up its marketing, doubling the promotion effect from 30–70 units to 60–140 units on promotion days. \n",
    "This chart simulates doubling the promotion effect from 30–70 units to 60–140 units on every 15th day. The original sales (blue) show regular spikes, while the boosted sales (dashed orange) jump higher (e.g., 35,000–45,000 DZD vs. 30,000–40,000 DZD). The increase is most noticeable during promotions, suggesting a strong response to intensified marketing. This what-if shows Laitinelle could boost revenue by 10-15% with a bigger campaign, though costs must be weighed. It demonstrates SupplyProphet™’s ability to test marketing strategies."
   ]
  },
  {
   "cell_type": "code",
   "execution_count": 4,
   "id": "6514b203",
   "metadata": {},
   "outputs": [],
   "source": [
    "import numpy as np\n",
    "\n",
    "df_boosted = df.copy()\n",
    "\n",
    "# Simulate doubled promotion effect (original 30-70 units to 60-140 units)\n",
    "boosted_effect = df[\"promotion\"] * np.random.uniform(60, 140, len(df))\n",
    "df_boosted[\"units_sold_boosted\"] = df[\"units_sold\"] + (boosted_effect - (df[\"promotion\"] * np.random.uniform(30, 70, len(df))))\n",
    "\n",
    "# Calculate new sales revenue (keeping price at 100 DZD)\n",
    "df_boosted[\"sales_dzd_boosted\"] = df_boosted[\"units_sold_boosted\"] * 100\n",
    "\n",
    "# Plot the comparison\n",
    "plt.figure(figsize=(10, 6))\n",
    "plt.plot(df[\"ds\"], df[\"sales_dzd\"], label=\"Original Sales\")\n",
    "plt.plot(df[\"ds\"], df_boosted[\"sales_dzd_boosted\"], label=\"Boosted Campaign Sales\", linestyle=\"--\")\n",
    "plt.title(\"Sales Impact of Doubled Marketing Campaign\")\n",
    "plt.xlabel(\"Date\")\n",
    "plt.ylabel(\"Sales (DZD)\")\n",
    "plt.legend()\n",
    "plt.grid(True)\n",
    "plt.savefig(\"marketing_boost_impact.png\")\n",
    "plt.close()"
   ]
  }
 ],
 "metadata": {
  "kernelspec": {
   "display_name": "base",
   "language": "python",
   "name": "python3"
  },
  "language_info": {
   "codemirror_mode": {
    "name": "ipython",
    "version": 3
   },
   "file_extension": ".py",
   "mimetype": "text/x-python",
   "name": "python",
   "nbconvert_exporter": "python",
   "pygments_lexer": "ipython3",
   "version": "3.12.7"
  }
 },
 "nbformat": 4,
 "nbformat_minor": 5
}
