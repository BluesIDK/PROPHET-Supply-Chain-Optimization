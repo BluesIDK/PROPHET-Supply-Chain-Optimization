{
 "cells": [
  {
   "cell_type": "code",
   "execution_count": 1,
   "id": "8873fa37",
   "metadata": {},
   "outputs": [],
   "source": [
    "import plotly.express as px\n",
    "import pandas as pd\n",
    "\n",
    "# Load data\n",
    "df = pd.read_csv(\"supply_chain_insights.csv\")\n",
    "forecast = pd.read_csv(\"sales_forecast.csv\")\n",
    "\n",
    "# Sales forecast plot\n",
    "fig = px.line(forecast, x=\"ds\", y=\"yhat\", title=\"Laitinelle Sales Forecast\")\n",
    "fig.add_scatter(x=df[\"ds\"], y=df[\"units_sold\"], mode=\"lines\", name=\"Actual Sales\")\n",
    "fig.update_layout(xaxis_title=\"Date\", yaxis_title=\"Units Sold\", template=\"plotly_dark\")\n",
    "fig.write_html(\"sales_forecast.html\")\n",
    "\n",
    "# Reorder alerts plot\n",
    "fig_alerts = px.scatter(df[df[\"reorder_alert\"]], x=\"ds\", y=\"inventory_level\", color=\"reorder_alert\",\n",
    "                        title=\"Reorder Alerts\", labels={\"inventory_level\": \"Inventory Level\"},\n",
    "                        template=\"plotly_dark\")\n",
    "fig_alerts.write_html(\"reorder_alerts.html\")"
   ]
  }
 ],
 "metadata": {
  "kernelspec": {
   "display_name": "base",
   "language": "python",
   "name": "python3"
  },
  "language_info": {
   "codemirror_mode": {
    "name": "ipython",
    "version": 3
   },
   "file_extension": ".py",
   "mimetype": "text/x-python",
   "name": "python",
   "nbconvert_exporter": "python",
   "pygments_lexer": "ipython3",
   "version": "3.12.7"
  }
 },
 "nbformat": 4,
 "nbformat_minor": 5
}
