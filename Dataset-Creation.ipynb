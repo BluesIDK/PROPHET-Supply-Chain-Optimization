{
 "cells": [
  {
   "cell_type": "code",
   "execution_count": null,
   "id": "c027dc59",
   "metadata": {},
   "outputs": [],
   "source": [
    "import pandas as pd\n",
    "import numpy as np\n",
    "\n",
    "# Date range: 6 months\n",
    "date_range = pd.date_range(start=\"2024-01-01\", end=\"2024-06-30\")\n",
    "days = len(date_range)\n",
    "np.random.seed(42)\n",
    "\n",
    "# Simulate sales\n",
    "base_sales = 300 + 20 * np.sin(np.linspace(0, 4 * np.pi, days)) + np.random.normal(0, 15, days)\n",
    "price_per_unit_dzd = 100\n",
    "promotions = np.array([1 if i % 15 == 0 else 0 for i in range(days)])\n",
    "promo_effect = promotions * np.random.uniform(30, 70, size=days)\n",
    "temperature = 20 + 10 * np.sin(np.linspace(0, 4 * np.pi, days)) + np.random.normal(0, 2, days)\n",
    "units_sold = np.round(base_sales + promo_effect + (temperature - 25) * 1.5, 0)\n",
    "sales_dzd = units_sold * price_per_unit_dzd\n",
    "\n",
    "# Inventory\n",
    "inventory_level = np.round(500 + np.random.normal(0, 50, days), 0)\n",
    "\n",
    "# DataFrame\n",
    "df_yogurt = pd.DataFrame({\n",
    "    \"ds\": date_range,\n",
    "    \"units_sold\": units_sold,\n",
    "    \"price_per_unit_dzd\": price_per_unit_dzd,\n",
    "    \"sales_dzd\": sales_dzd,\n",
    "    \"promotion\": promotions,\n",
    "    \"temperature_c\": np.round(temperature, 1),\n",
    "    \"inventory_level\": inventory_level\n",
    "})\n",
    "\n",
    "df_yogurt.to_csv(\"data/latinelle_yogurt_data.csv\", index=False)"
   ]
  }
 ],
 "metadata": {
  "language_info": {
   "name": "python"
  }
 },
 "nbformat": 4,
 "nbformat_minor": 5
}
