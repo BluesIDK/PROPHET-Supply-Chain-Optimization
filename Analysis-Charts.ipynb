{
 "cells": [
  {
   "cell_type": "code",
   "execution_count": 1,
   "id": "66fa2340",
   "metadata": {},
   "outputs": [],
   "source": [
    "import pandas as pd\n",
    "import numpy as np\n",
    "import matplotlib.pyplot as plt\n",
    "from prophet import Prophet\n",
    "\n",
    "# Load data\n",
    "df = pd.read_csv(\"latinelle_yogurt_data.csv\")\n",
    "forecast = pd.read_csv(\"sales_forecast.csv\")"
   ]
  },
  {
   "cell_type": "markdown",
   "id": "d495d53f",
   "metadata": {},
   "source": [
    "\"\"\"\n",
    "### Sales Over Time Analysis\n",
    "This chart compares actual sales (blue) with Prophet's predictions (dashed orange) over 6 months. The close alignment shows Prophet captures seasonality and trends well. Spikes every 15 days reflect promotions, while gradual rises suggest temperature effects.\n",
    "This validates our model’s accuracy (~20-30 RMSE), proving it’s ready for Laitinelle’s production planning.\n",
    "\"\"\""
   ]
  },
  {
   "cell_type": "code",
   "execution_count": 2,
   "id": "a68efd38",
   "metadata": {},
   "outputs": [],
   "source": [
    "plt.figure(figsize=(10, 6))\n",
    "plt.plot(df[\"ds\"], df[\"units_sold\"], label=\"Actual Sales\")\n",
    "plt.plot(forecast[\"ds\"], forecast[\"yhat\"], label=\"Predicted Sales\", linestyle=\"--\")\n",
    "plt.title(\"Actual vs Predicted Sales (Jan-Jun 2024)\")\n",
    "plt.xlabel(\"Date\")\n",
    "plt.ylabel(\"Units Sold\")\n",
    "plt.legend()\n",
    "plt.grid(True)\n",
    "plt.savefig(\"sales_over_time.png\")\n",
    "plt.close()"
   ]
  },
  {
   "cell_type": "markdown",
   "id": "e6d622e1",
   "metadata": {},
   "source": [
    "\"\"\"\n",
    "### Temperature Impact Analysis\n",
    "This scatter plot reveals a positive correlation between temperature and sales, with units sold rising ~1.5 per °C above 25°C. Hotter days (e.g., 30°C) drive demand, aligning with Algerian summer patterns. \n",
    "This justifies including temperature as a regressor, enhancing forecast realism.\n",
    "\"\"\""
   ]
  },
  {
   "cell_type": "code",
   "execution_count": 3,
   "id": "acc34c4b",
   "metadata": {},
   "outputs": [],
   "source": [
    "plt.figure(figsize=(10, 6))\n",
    "plt.scatter(df[\"temperature_c\"], df[\"units_sold\"], alpha=0.5)\n",
    "plt.title(\"Temperature vs Sales\")\n",
    "plt.xlabel(\"Temperature (°C)\")\n",
    "plt.ylabel(\"Units Sold\")\n",
    "plt.grid(True)\n",
    "plt.savefig(\"temperature_impact.png\")\n",
    "plt.close()"
   ]
  },
  {
   "cell_type": "markdown",
   "id": "05910593",
   "metadata": {},
   "source": [
    "\"\"\"\n",
    "### Promotion Effects Analysis\n",
    "This box plot compares sales on promotion days (every 15th) to non-promotion days. The median jumps from ~300 to ~350-370 units, with wider spread during promotions (30-70 unit boost). For the jury: This quantifies marketing impact, helping Laitinelle optimize ad spend.\n",
    "\"\"\""
   ]
  },
  {
   "cell_type": "code",
   "execution_count": 4,
   "id": "dd010d78",
   "metadata": {},
   "outputs": [
    {
     "name": "stderr",
     "output_type": "stream",
     "text": [
      "C:\\Users\\amira\\AppData\\Local\\Temp\\ipykernel_21616\\2104728951.py:4: MatplotlibDeprecationWarning: The 'labels' parameter of boxplot() has been renamed 'tick_labels' since Matplotlib 3.9; support for the old name will be dropped in 3.11.\n",
      "  plt.boxplot([non_promo_days[\"units_sold\"], promo_days[\"units_sold\"]], labels=[\"No Promo\", \"Promo\"])\n"
     ]
    }
   ],
   "source": [
    "plt.figure(figsize=(10, 6))\n",
    "promo_days = df[df[\"promotion\"] == 1]\n",
    "non_promo_days = df[df[\"promotion\"] == 0]\n",
    "plt.boxplot([non_promo_days[\"units_sold\"], promo_days[\"units_sold\"]], labels=[\"No Promo\", \"Promo\"])\n",
    "plt.title(\"Sales Distribution: Promo vs No Promo\")\n",
    "plt.ylabel(\"Units Sold\")\n",
    "plt.savefig(\"promotion_effects.png\")\n",
    "plt.close()"
   ]
  },
  {
   "cell_type": "markdown",
   "id": "af4357c3",
   "metadata": {},
   "source": [
    "\"\"\"\n",
    "### Inventory Levels Analysis\n",
    "This line plot tracks inventory (base 500 ± 50 units), showing natural fluctuations. Low points near 450 could trigger alerts if demand spikes. For the jury: This highlights the need for reorder alerts, ensuring stock aligns with predictions to avoid waste.\n",
    "\"\"\""
   ]
  },
  {
   "cell_type": "code",
   "execution_count": 5,
   "id": "5658bb24",
   "metadata": {},
   "outputs": [],
   "source": [
    "plt.figure(figsize=(10, 6))\n",
    "plt.plot(df[\"ds\"], df[\"inventory_level\"], label=\"Inventory Level\")\n",
    "plt.title(\"Inventory Levels Over Time\")\n",
    "plt.xlabel(\"Date\")\n",
    "plt.ylabel(\"Units\")\n",
    "plt.legend()\n",
    "plt.grid(True)\n",
    "plt.savefig(\"inventory_levels.png\")\n",
    "plt.close()"
   ]
  },
  {
   "cell_type": "markdown",
   "id": "ffe48961",
   "metadata": {},
   "source": [
    "\"\"\"\n",
    "### Forecast Confidence Intervals Analysis\n",
    "This plot shows Prophet’s predictions with a 95% confidence interval (gray shade). The tight band (±20-30 units) indicates reliable forecasts. For the jury: This uncertainty range helps Laitinelle plan buffers, proving the model’s robustness.\n",
    "\"\"\""
   ]
  },
  {
   "cell_type": "code",
   "execution_count": 6,
   "id": "632ad000",
   "metadata": {},
   "outputs": [],
   "source": [
    "plt.figure(figsize=(10, 6))\n",
    "plt.plot(forecast[\"ds\"], forecast[\"yhat\"], label=\"Prediction\")\n",
    "plt.fill_between(forecast[\"ds\"], forecast[\"yhat_lower\"], forecast[\"yhat_upper\"], color=\"gray\", alpha=0.3, label=\"Confidence Interval\")\n",
    "plt.title(\"Forecast with Confidence Intervals\")\n",
    "plt.xlabel(\"Date\")\n",
    "plt.ylabel(\"Units Sold\")\n",
    "plt.legend()\n",
    "plt.grid(True)\n",
    "plt.savefig(\"confidence_intervals.png\")\n",
    "plt.close()\n"
   ]
  }
 ],
 "metadata": {
  "kernelspec": {
   "display_name": "base",
   "language": "python",
   "name": "python3"
  },
  "language_info": {
   "codemirror_mode": {
    "name": "ipython",
    "version": 3
   },
   "file_extension": ".py",
   "mimetype": "text/x-python",
   "name": "python",
   "nbconvert_exporter": "python",
   "pygments_lexer": "ipython3",
   "version": "3.12.7"
  }
 },
 "nbformat": 4,
 "nbformat_minor": 5
}
