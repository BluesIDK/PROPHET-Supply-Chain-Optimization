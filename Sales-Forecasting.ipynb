{
 "cells": [
  {
   "cell_type": "code",
   "execution_count": 2,
   "id": "ab70efa7",
   "metadata": {},
   "outputs": [
    {
     "name": "stderr",
     "output_type": "stream",
     "text": [
      "19:51:35 - cmdstanpy - INFO - Chain [1] start processing\n",
      "19:51:36 - cmdstanpy - INFO - Chain [1] done processing\n"
     ]
    }
   ],
   "source": [
    "from prophet import Prophet\n",
    "import pandas as pd\n",
    "import numpy as np\n",
    "\n",
    "# Load data\n",
    "df = pd.read_csv(\"latinelle_yogurt_data.csv\")\n",
    "df_prophet = df[[\"ds\", \"units_sold\", \"promotion\", \"temperature_c\"]].rename(columns={\"units_sold\": \"y\"})\n",
    "\n",
    "# Train Prophet\n",
    "model = Prophet(yearly_seasonality=True, weekly_seasonality=True, daily_seasonality=True)\n",
    "model.add_regressor(\"promotion\")\n",
    "model.add_regressor(\"temperature_c\")\n",
    "model.fit(df_prophet)\n",
    "\n",
    "# Forecast 30 days\n",
    "future = model.make_future_dataframe(periods=30)\n",
    "future[\"promotion\"] = np.concatenate([df[\"promotion\"], np.zeros(30)])  # No promotions in future\n",
    "future[\"temperature_c\"] = np.concatenate([df[\"temperature_c\"], np.random.normal(25, 2, 30)])  # Simulated future temps\n",
    "forecast = model.predict(future)\n",
    "\n",
    "# Save model and forecast\n",
    "import joblib\n",
    "joblib.dump(model, \"sales_model.pkl\")\n",
    "forecast.to_csv(\"sales_forecast.csv\", index=False)"
   ]
  }
 ],
 "metadata": {
  "kernelspec": {
   "display_name": "base",
   "language": "python",
   "name": "python3"
  },
  "language_info": {
   "codemirror_mode": {
    "name": "ipython",
    "version": 3
   },
   "file_extension": ".py",
   "mimetype": "text/x-python",
   "name": "python",
   "nbconvert_exporter": "python",
   "pygments_lexer": "ipython3",
   "version": "3.12.7"
  }
 },
 "nbformat": 4,
 "nbformat_minor": 5
}
