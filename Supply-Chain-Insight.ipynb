{
 "cells": [
  {
   "cell_type": "code",
   "execution_count": null,
   "id": "8d68167b",
   "metadata": {},
   "outputs": [],
   "source": [
    "import pandas as pd\n",
    "import numpy as np\n",
    "\n",
    "# Load data and forecast\n",
    "df = pd.read_csv(\"data/latinelle_yogurt_data.csv\")\n",
    "forecast = pd.read_csv(\"visualizations/sales_forecast.csv\")\n",
    "df[\"predicted_units_sold\"] = forecast[\"yhat\"][:len(df)]\n",
    "\n",
    "# Calculate reorder quantity\n",
    "buffer = 50\n",
    "df[\"reorder_quantity\"] = np.where(df[\"inventory_level\"] < df[\"predicted_units_sold\"],\n",
    "                                 df[\"predicted_units_sold\"] - df[\"inventory_level\"] + buffer,\n",
    "                                 0)\n",
    "\n",
    "# Flag reorder alerts\n",
    "df[\"reorder_alert\"] = df[\"inventory_level\"] < df[\"predicted_units_sold\"]\n",
    "\n",
    "# Save results\n",
    "df.to_csv(\"visualizations/supply_chain_insights.csv\", index=False)"
   ]
  }
 ],
 "metadata": {
  "language_info": {
   "name": "python"
  }
 },
 "nbformat": 4,
 "nbformat_minor": 5
}
